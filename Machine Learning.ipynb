{
 "cells": [
  {
   "cell_type": "code",
   "execution_count": 1,
   "metadata": {},
   "outputs": [],
   "source": [
    "import requests\n",
    "from bs4 import BeautifulSoup as soup\n",
    "from matplotlib import pyplot as plt\n",
    "from datetime import datetime, timedelta\n",
    "import pandas as pd\n",
    "import numpy as np"
   ]
  },
  {
   "cell_type": "markdown",
   "metadata": {},
   "source": [
    "## Regressão Linear"
   ]
  },
  {
   "cell_type": "code",
   "execution_count": 2,
   "metadata": {},
   "outputs": [],
   "source": [
    "covid = pd.read_csv('covid-muriae-auto.csv', sep=';')"
   ]
  },
  {
   "cell_type": "code",
   "execution_count": 3,
   "metadata": {
    "scrolled": true
   },
   "outputs": [
    {
     "data": {
      "text/html": [
       "<div>\n",
       "<style scoped>\n",
       "    .dataframe tbody tr th:only-of-type {\n",
       "        vertical-align: middle;\n",
       "    }\n",
       "\n",
       "    .dataframe tbody tr th {\n",
       "        vertical-align: top;\n",
       "    }\n",
       "\n",
       "    .dataframe thead th {\n",
       "        text-align: right;\n",
       "    }\n",
       "</style>\n",
       "<table border=\"1\" class=\"dataframe\">\n",
       "  <thead>\n",
       "    <tr style=\"text-align: right;\">\n",
       "      <th></th>\n",
       "      <th>Data</th>\n",
       "      <th>Dose 1</th>\n",
       "      <th>Dose 2</th>\n",
       "      <th>Casos Totais</th>\n",
       "      <th>Casos Ativos</th>\n",
       "      <th>Óbitos</th>\n",
       "      <th>Casos Diários</th>\n",
       "      <th>Óbitos Diários</th>\n",
       "    </tr>\n",
       "  </thead>\n",
       "  <tbody>\n",
       "    <tr>\n",
       "      <th>0</th>\n",
       "      <td>2020-05-19</td>\n",
       "      <td>0</td>\n",
       "      <td>0</td>\n",
       "      <td>67</td>\n",
       "      <td>39</td>\n",
       "      <td>3</td>\n",
       "      <td>0</td>\n",
       "      <td>0</td>\n",
       "    </tr>\n",
       "    <tr>\n",
       "      <th>1</th>\n",
       "      <td>2020-05-20</td>\n",
       "      <td>0</td>\n",
       "      <td>0</td>\n",
       "      <td>77</td>\n",
       "      <td>49</td>\n",
       "      <td>3</td>\n",
       "      <td>10</td>\n",
       "      <td>0</td>\n",
       "    </tr>\n",
       "    <tr>\n",
       "      <th>2</th>\n",
       "      <td>2020-05-21</td>\n",
       "      <td>0</td>\n",
       "      <td>0</td>\n",
       "      <td>83</td>\n",
       "      <td>45</td>\n",
       "      <td>4</td>\n",
       "      <td>6</td>\n",
       "      <td>1</td>\n",
       "    </tr>\n",
       "    <tr>\n",
       "      <th>3</th>\n",
       "      <td>2020-05-22</td>\n",
       "      <td>0</td>\n",
       "      <td>0</td>\n",
       "      <td>95</td>\n",
       "      <td>57</td>\n",
       "      <td>4</td>\n",
       "      <td>12</td>\n",
       "      <td>0</td>\n",
       "    </tr>\n",
       "    <tr>\n",
       "      <th>4</th>\n",
       "      <td>2020-05-23</td>\n",
       "      <td>0</td>\n",
       "      <td>0</td>\n",
       "      <td>95</td>\n",
       "      <td>57</td>\n",
       "      <td>4</td>\n",
       "      <td>0</td>\n",
       "      <td>0</td>\n",
       "    </tr>\n",
       "    <tr>\n",
       "      <th>...</th>\n",
       "      <td>...</td>\n",
       "      <td>...</td>\n",
       "      <td>...</td>\n",
       "      <td>...</td>\n",
       "      <td>...</td>\n",
       "      <td>...</td>\n",
       "      <td>...</td>\n",
       "      <td>...</td>\n",
       "    </tr>\n",
       "    <tr>\n",
       "      <th>524</th>\n",
       "      <td>2021-10-25</td>\n",
       "      <td>84191</td>\n",
       "      <td>58139</td>\n",
       "      <td>11867</td>\n",
       "      <td>8</td>\n",
       "      <td>316</td>\n",
       "      <td>3</td>\n",
       "      <td>0</td>\n",
       "    </tr>\n",
       "    <tr>\n",
       "      <th>525</th>\n",
       "      <td>2021-10-26</td>\n",
       "      <td>84208</td>\n",
       "      <td>58324</td>\n",
       "      <td>11869</td>\n",
       "      <td>10</td>\n",
       "      <td>316</td>\n",
       "      <td>2</td>\n",
       "      <td>0</td>\n",
       "    </tr>\n",
       "    <tr>\n",
       "      <th>526</th>\n",
       "      <td>2021-10-27</td>\n",
       "      <td>84226</td>\n",
       "      <td>59297</td>\n",
       "      <td>11870</td>\n",
       "      <td>10</td>\n",
       "      <td>316</td>\n",
       "      <td>1</td>\n",
       "      <td>0</td>\n",
       "    </tr>\n",
       "    <tr>\n",
       "      <th>527</th>\n",
       "      <td>2021-10-28</td>\n",
       "      <td>84248</td>\n",
       "      <td>59439</td>\n",
       "      <td>11871</td>\n",
       "      <td>10</td>\n",
       "      <td>316</td>\n",
       "      <td>1</td>\n",
       "      <td>0</td>\n",
       "    </tr>\n",
       "    <tr>\n",
       "      <th>528</th>\n",
       "      <td>2021-10-29</td>\n",
       "      <td>84278</td>\n",
       "      <td>59718</td>\n",
       "      <td>11874</td>\n",
       "      <td>11</td>\n",
       "      <td>316</td>\n",
       "      <td>3</td>\n",
       "      <td>0</td>\n",
       "    </tr>\n",
       "  </tbody>\n",
       "</table>\n",
       "<p>529 rows × 8 columns</p>\n",
       "</div>"
      ],
      "text/plain": [
       "           Data  Dose 1  Dose 2  Casos Totais  Casos Ativos  Óbitos  \\\n",
       "0    2020-05-19       0       0            67            39       3   \n",
       "1    2020-05-20       0       0            77            49       3   \n",
       "2    2020-05-21       0       0            83            45       4   \n",
       "3    2020-05-22       0       0            95            57       4   \n",
       "4    2020-05-23       0       0            95            57       4   \n",
       "..          ...     ...     ...           ...           ...     ...   \n",
       "524  2021-10-25   84191   58139         11867             8     316   \n",
       "525  2021-10-26   84208   58324         11869            10     316   \n",
       "526  2021-10-27   84226   59297         11870            10     316   \n",
       "527  2021-10-28   84248   59439         11871            10     316   \n",
       "528  2021-10-29   84278   59718         11874            11     316   \n",
       "\n",
       "     Casos Diários  Óbitos Diários  \n",
       "0                0               0  \n",
       "1               10               0  \n",
       "2                6               1  \n",
       "3               12               0  \n",
       "4                0               0  \n",
       "..             ...             ...  \n",
       "524              3               0  \n",
       "525              2               0  \n",
       "526              1               0  \n",
       "527              1               0  \n",
       "528              3               0  \n",
       "\n",
       "[529 rows x 8 columns]"
      ]
     },
     "execution_count": 3,
     "metadata": {},
     "output_type": "execute_result"
    }
   ],
   "source": [
    "covid"
   ]
  },
  {
   "cell_type": "code",
   "execution_count": 4,
   "metadata": {},
   "outputs": [],
   "source": [
    "from sklearn.linear_model import LinearRegression\n",
    "from sklearn.model_selection import train_test_split"
   ]
  },
  {
   "cell_type": "code",
   "execution_count": 5,
   "metadata": {},
   "outputs": [],
   "source": [
    "vacinacao = covid[covid['Dose 1'] > 0]\n",
    "vacinacao.reset_index(drop=True, inplace=True)"
   ]
  },
  {
   "cell_type": "code",
   "execution_count": 6,
   "metadata": {},
   "outputs": [],
   "source": [
    "X = vacinacao.drop('Casos Ativos', axis=1)\n",
    "y = vacinacao[['Casos Ativos']]"
   ]
  },
  {
   "cell_type": "code",
   "execution_count": 7,
   "metadata": {},
   "outputs": [],
   "source": [
    "X_train, X_test, y_train, y_test = train_test_split(X, y, test_size = 0.2, random_state=42)\n",
    "X_train.reset_index(drop=True, inplace=True)\n",
    "X_test.reset_index(drop=True, inplace=True)\n",
    "y_train.reset_index(drop=True, inplace=True)\n",
    "y_test.reset_index(drop=True, inplace=True)"
   ]
  },
  {
   "cell_type": "code",
   "execution_count": 14,
   "metadata": {},
   "outputs": [
    {
     "data": {
      "text/plain": [
       "LinearRegression()"
      ]
     },
     "execution_count": 14,
     "metadata": {},
     "output_type": "execute_result"
    }
   ],
   "source": [
    "reg = LinearRegression()\n",
    "reg.fit(X_train[['Dose 1', 'Dose 2']], y_train)"
   ]
  },
  {
   "cell_type": "code",
   "execution_count": 15,
   "metadata": {
    "scrolled": true
   },
   "outputs": [],
   "source": [
    "y_pred = reg.predict(X_test[['Dose 1', 'Dose 2']])"
   ]
  },
  {
   "cell_type": "code",
   "execution_count": 16,
   "metadata": {},
   "outputs": [],
   "source": [
    "results = pd.concat([X_test[['Data']], pd.DataFrame(y_pred)], axis=1).sort_values('Data')"
   ]
  },
  {
   "cell_type": "code",
   "execution_count": 17,
   "metadata": {
    "scrolled": true
   },
   "outputs": [],
   "source": [
    "results.columns = ['Data', 'pred']"
   ]
  },
  {
   "cell_type": "code",
   "execution_count": 12,
   "metadata": {},
   "outputs": [],
   "source": [
    "plt.rcParams.update({'figure.facecolor': 'white'})"
   ]
  },
  {
   "cell_type": "code",
   "execution_count": 18,
   "metadata": {
    "scrolled": false
   },
   "outputs": [
    {
     "name": "stdout",
     "output_type": "stream",
     "text": [
      "\n"
     ]
    },
    {
     "data": {
      "image/png": "[encoded data removed]",
      "text/plain": [
       "<Figure size 720x720 with 1 Axes>"
      ]
     },
     "metadata": {},
     "output_type": "display_data"
    }
   ],
   "source": [
    "plt.figure(figsize=(10,10))\n",
    "\n",
    "plt.plot(covid['Data'], covid['Casos Ativos'], label='Casos Ativos reais')\n",
    "plt.plot(results['Data'], results['pred'], label='Casos ativos preditos')\n",
    "plt.xticks(covid['Data'].values[::60], rotation=45)\n",
    "plt.title('Casos ativos reais vs. Casos ativos preditos')\n",
    "plt.ylabel('Casos Ativos')\n",
    "plt.ylim(0, max(covid['Casos Ativos']+20))\n",
    "plt.legend()\n",
    "print('')"
   ]
  },
  {
   "cell_type": "code",
   "execution_count": 106,
   "metadata": {},
   "outputs": [],
   "source": [
    "from sklearn.metrics import mean_absolute_error, r2_score, mean_squared_log_error"
   ]
  },
  {
   "cell_type": "code",
   "execution_count": 107,
   "metadata": {
    "scrolled": true
   },
   "outputs": [
    {
     "name": "stdout",
     "output_type": "stream",
     "text": [
      "36.159893450257144\n",
      "0.7350468564223764\n"
     ]
    }
   ],
   "source": [
    "print(mean_absolute_error(y_test, y_pred))\n",
    "print(r2_score(y_test, y_pred))"
   ]
  },
  {
   "cell_type": "markdown",
   "metadata": {},
   "source": [
    "## Transformação Log"
   ]
  },
  {
   "cell_type": "code",
   "execution_count": 21,
   "metadata": {},
   "outputs": [],
   "source": [
    "from sklearn.preprocessing import FunctionTransformer"
   ]
  },
  {
   "cell_type": "code",
   "execution_count": 22,
   "metadata": {
    "scrolled": true
   },
   "outputs": [
    {
     "data": {
      "text/html": [
       "<div>\n",
       "<style scoped>\n",
       "    .dataframe tbody tr th:only-of-type {\n",
       "        vertical-align: middle;\n",
       "    }\n",
       "\n",
       "    .dataframe tbody tr th {\n",
       "        vertical-align: top;\n",
       "    }\n",
       "\n",
       "    .dataframe thead th {\n",
       "        text-align: right;\n",
       "    }\n",
       "</style>\n",
       "<table border=\"1\" class=\"dataframe\">\n",
       "  <thead>\n",
       "    <tr style=\"text-align: right;\">\n",
       "      <th></th>\n",
       "      <th>Data</th>\n",
       "      <th>Dose 1</th>\n",
       "      <th>Dose 2</th>\n",
       "      <th>Casos Totais</th>\n",
       "      <th>Óbitos</th>\n",
       "      <th>Casos Diários</th>\n",
       "      <th>Óbitos Diários</th>\n",
       "      <th>Dose 1_sqrt</th>\n",
       "      <th>Dose 2_sqrt</th>\n",
       "      <th>Casos Totais_sqrt</th>\n",
       "      <th>Óbitos_sqrt</th>\n",
       "      <th>Casos Diários_sqrt</th>\n",
       "      <th>Óbitos Diários_sqrt</th>\n",
       "    </tr>\n",
       "  </thead>\n",
       "  <tbody>\n",
       "    <tr>\n",
       "      <th>0</th>\n",
       "      <td>2021-01-20</td>\n",
       "      <td>2</td>\n",
       "      <td>0</td>\n",
       "      <td>6492</td>\n",
       "      <td>124</td>\n",
       "      <td>52</td>\n",
       "      <td>0</td>\n",
       "      <td>1.414214</td>\n",
       "      <td>0.000000</td>\n",
       "      <td>80.572948</td>\n",
       "      <td>11.135529</td>\n",
       "      <td>7.211103</td>\n",
       "      <td>0.0</td>\n",
       "    </tr>\n",
       "    <tr>\n",
       "      <th>1</th>\n",
       "      <td>2021-01-21</td>\n",
       "      <td>569</td>\n",
       "      <td>0</td>\n",
       "      <td>6536</td>\n",
       "      <td>124</td>\n",
       "      <td>44</td>\n",
       "      <td>0</td>\n",
       "      <td>23.853721</td>\n",
       "      <td>0.000000</td>\n",
       "      <td>80.845532</td>\n",
       "      <td>11.135529</td>\n",
       "      <td>6.633250</td>\n",
       "      <td>0.0</td>\n",
       "    </tr>\n",
       "    <tr>\n",
       "      <th>2</th>\n",
       "      <td>2021-01-22</td>\n",
       "      <td>765</td>\n",
       "      <td>0</td>\n",
       "      <td>6603</td>\n",
       "      <td>125</td>\n",
       "      <td>67</td>\n",
       "      <td>1</td>\n",
       "      <td>27.658633</td>\n",
       "      <td>0.000000</td>\n",
       "      <td>81.258846</td>\n",
       "      <td>11.180340</td>\n",
       "      <td>8.185353</td>\n",
       "      <td>1.0</td>\n",
       "    </tr>\n",
       "    <tr>\n",
       "      <th>3</th>\n",
       "      <td>2021-01-23</td>\n",
       "      <td>765</td>\n",
       "      <td>0</td>\n",
       "      <td>6603</td>\n",
       "      <td>125</td>\n",
       "      <td>0</td>\n",
       "      <td>0</td>\n",
       "      <td>27.658633</td>\n",
       "      <td>0.000000</td>\n",
       "      <td>81.258846</td>\n",
       "      <td>11.180340</td>\n",
       "      <td>0.000000</td>\n",
       "      <td>0.0</td>\n",
       "    </tr>\n",
       "    <tr>\n",
       "      <th>4</th>\n",
       "      <td>2021-01-24</td>\n",
       "      <td>765</td>\n",
       "      <td>0</td>\n",
       "      <td>6603</td>\n",
       "      <td>125</td>\n",
       "      <td>0</td>\n",
       "      <td>0</td>\n",
       "      <td>27.658633</td>\n",
       "      <td>0.000000</td>\n",
       "      <td>81.258846</td>\n",
       "      <td>11.180340</td>\n",
       "      <td>0.000000</td>\n",
       "      <td>0.0</td>\n",
       "    </tr>\n",
       "    <tr>\n",
       "      <th>...</th>\n",
       "      <td>...</td>\n",
       "      <td>...</td>\n",
       "      <td>...</td>\n",
       "      <td>...</td>\n",
       "      <td>...</td>\n",
       "      <td>...</td>\n",
       "      <td>...</td>\n",
       "      <td>...</td>\n",
       "      <td>...</td>\n",
       "      <td>...</td>\n",
       "      <td>...</td>\n",
       "      <td>...</td>\n",
       "      <td>...</td>\n",
       "    </tr>\n",
       "    <tr>\n",
       "      <th>278</th>\n",
       "      <td>2021-10-25</td>\n",
       "      <td>84191</td>\n",
       "      <td>58139</td>\n",
       "      <td>11867</td>\n",
       "      <td>316</td>\n",
       "      <td>3</td>\n",
       "      <td>0</td>\n",
       "      <td>290.156854</td>\n",
       "      <td>241.120302</td>\n",
       "      <td>108.935761</td>\n",
       "      <td>17.776389</td>\n",
       "      <td>1.732051</td>\n",
       "      <td>0.0</td>\n",
       "    </tr>\n",
       "    <tr>\n",
       "      <th>279</th>\n",
       "      <td>2021-10-26</td>\n",
       "      <td>84208</td>\n",
       "      <td>58324</td>\n",
       "      <td>11869</td>\n",
       "      <td>316</td>\n",
       "      <td>2</td>\n",
       "      <td>0</td>\n",
       "      <td>290.186147</td>\n",
       "      <td>241.503623</td>\n",
       "      <td>108.944940</td>\n",
       "      <td>17.776389</td>\n",
       "      <td>1.414214</td>\n",
       "      <td>0.0</td>\n",
       "    </tr>\n",
       "    <tr>\n",
       "      <th>280</th>\n",
       "      <td>2021-10-27</td>\n",
       "      <td>84226</td>\n",
       "      <td>59297</td>\n",
       "      <td>11870</td>\n",
       "      <td>316</td>\n",
       "      <td>1</td>\n",
       "      <td>0</td>\n",
       "      <td>290.217160</td>\n",
       "      <td>243.509753</td>\n",
       "      <td>108.949530</td>\n",
       "      <td>17.776389</td>\n",
       "      <td>1.000000</td>\n",
       "      <td>0.0</td>\n",
       "    </tr>\n",
       "    <tr>\n",
       "      <th>281</th>\n",
       "      <td>2021-10-28</td>\n",
       "      <td>84248</td>\n",
       "      <td>59439</td>\n",
       "      <td>11871</td>\n",
       "      <td>316</td>\n",
       "      <td>1</td>\n",
       "      <td>0</td>\n",
       "      <td>290.255060</td>\n",
       "      <td>243.801148</td>\n",
       "      <td>108.954119</td>\n",
       "      <td>17.776389</td>\n",
       "      <td>1.000000</td>\n",
       "      <td>0.0</td>\n",
       "    </tr>\n",
       "    <tr>\n",
       "      <th>282</th>\n",
       "      <td>2021-10-29</td>\n",
       "      <td>84278</td>\n",
       "      <td>59718</td>\n",
       "      <td>11874</td>\n",
       "      <td>316</td>\n",
       "      <td>3</td>\n",
       "      <td>0</td>\n",
       "      <td>290.306734</td>\n",
       "      <td>244.372666</td>\n",
       "      <td>108.967885</td>\n",
       "      <td>17.776389</td>\n",
       "      <td>1.732051</td>\n",
       "      <td>0.0</td>\n",
       "    </tr>\n",
       "  </tbody>\n",
       "</table>\n",
       "<p>283 rows × 13 columns</p>\n",
       "</div>"
      ],
      "text/plain": [
       "           Data  Dose 1  Dose 2  Casos Totais  Óbitos  Casos Diários  \\\n",
       "0    2021-01-20       2       0          6492     124             52   \n",
       "1    2021-01-21     569       0          6536     124             44   \n",
       "2    2021-01-22     765       0          6603     125             67   \n",
       "3    2021-01-23     765       0          6603     125              0   \n",
       "4    2021-01-24     765       0          6603     125              0   \n",
       "..          ...     ...     ...           ...     ...            ...   \n",
       "278  2021-10-25   84191   58139         11867     316              3   \n",
       "279  2021-10-26   84208   58324         11869     316              2   \n",
       "280  2021-10-27   84226   59297         11870     316              1   \n",
       "281  2021-10-28   84248   59439         11871     316              1   \n",
       "282  2021-10-29   84278   59718         11874     316              3   \n",
       "\n",
       "     Óbitos Diários  Dose 1_sqrt  Dose 2_sqrt  Casos Totais_sqrt  Óbitos_sqrt  \\\n",
       "0                 0     1.414214     0.000000          80.572948    11.135529   \n",
       "1                 0    23.853721     0.000000          80.845532    11.135529   \n",
       "2                 1    27.658633     0.000000          81.258846    11.180340   \n",
       "3                 0    27.658633     0.000000          81.258846    11.180340   \n",
       "4                 0    27.658633     0.000000          81.258846    11.180340   \n",
       "..              ...          ...          ...                ...          ...   \n",
       "278               0   290.156854   241.120302         108.935761    17.776389   \n",
       "279               0   290.186147   241.503623         108.944940    17.776389   \n",
       "280               0   290.217160   243.509753         108.949530    17.776389   \n",
       "281               0   290.255060   243.801148         108.954119    17.776389   \n",
       "282               0   290.306734   244.372666         108.967885    17.776389   \n",
       "\n",
       "     Casos Diários_sqrt  Óbitos Diários_sqrt  \n",
       "0              7.211103                  0.0  \n",
       "1              6.633250                  0.0  \n",
       "2              8.185353                  1.0  \n",
       "3              0.000000                  0.0  \n",
       "4              0.000000                  0.0  \n",
       "..                  ...                  ...  \n",
       "278            1.732051                  0.0  \n",
       "279            1.414214                  0.0  \n",
       "280            1.000000                  0.0  \n",
       "281            1.000000                  0.0  \n",
       "282            1.732051                  0.0  \n",
       "\n",
       "[283 rows x 13 columns]"
      ]
     },
     "execution_count": 22,
     "metadata": {},
     "output_type": "execute_result"
    }
   ],
   "source": [
    "cols = X.select_dtypes(include='number').columns\n",
    "\n",
    "sqrt_transformer = FunctionTransformer(np.sqrt, validate=True)\n",
    "\n",
    "for col in cols:\n",
    "    X['{}_sqrt'.format(col)] = sqrt_transformer.transform(X[col].values.reshape(-1, 1))\n",
    "X"
   ]
  },
  {
   "cell_type": "code",
   "execution_count": 23,
   "metadata": {},
   "outputs": [
    {
     "data": {
      "text/plain": [
       "Index(['Data', 'Dose 1', 'Dose 2', 'Casos Totais', 'Óbitos', 'Casos Diários',\n",
       "       'Óbitos Diários', 'Dose 1_sqrt', 'Dose 2_sqrt', 'Casos Totais_sqrt',\n",
       "       'Óbitos_sqrt', 'Casos Diários_sqrt', 'Óbitos Diários_sqrt'],\n",
       "      dtype='object')"
      ]
     },
     "execution_count": 23,
     "metadata": {},
     "output_type": "execute_result"
    }
   ],
   "source": [
    "X.columns"
   ]
  },
  {
   "cell_type": "code",
   "execution_count": 24,
   "metadata": {},
   "outputs": [],
   "source": [
    "X_log = X[['Data', 'Dose 1_sqrt', 'Dose 2_sqrt', 'Casos Totais_sqrt',\n",
    "       'Óbitos_sqrt', 'Casos Diários_sqrt', 'Óbitos Diários_sqrt']]\n",
    "y_log = np.log(vacinacao['Casos Ativos'])\n",
    "\n",
    "X_train, X_test, y_train, y_test = train_test_split(X_log, y_log, test_size = 0.2, random_state=42)\n",
    "X_train.reset_index(drop=True, inplace=True)\n",
    "X_test.reset_index(drop=True, inplace=True)\n",
    "y_train.reset_index(drop=True, inplace=True)\n",
    "y_test.reset_index(drop=True, inplace=True)"
   ]
  },
  {
   "cell_type": "code",
   "execution_count": 25,
   "metadata": {},
   "outputs": [],
   "source": [
    "#forçando o último registro a aparecer nos dataframes de teste\n",
    "\n",
    "i = X_train[X_train['Data'] == max(X_train['Data'])].index[0]\n",
    "\n",
    "X_test = pd.concat([X_test, pd.DataFrame({'Data': X_train.loc[i, 'Data'],\n",
    "                    'Dose 1_sqrt': X_train.loc[i, 'Dose 1_sqrt'], \n",
    "                    'Dose 2_sqrt': X_train.loc[i, 'Dose 2_sqrt'],\n",
    "                    'Casos Totais_sqrt': X_train.loc[i,'Casos Totais_sqrt'] , \n",
    "                    'Óbitos_sqrt': X_train.loc[i, 'Óbitos_sqrt'],\n",
    "                    'Casos Diários_sqrt': X_train.loc[i, 'Casos Diários_sqrt'], \n",
    "                    'Óbitos Diários_sqrt': X_train.loc[i, 'Óbitos Diários_sqrt']}, \n",
    "                                         index=[len(X_test)+1])], axis=0)\n",
    "y_test = pd.concat([pd.DataFrame(y_test), \n",
    "                    pd.DataFrame({'Casos Ativos': np.log(y['Casos Ativos'][y.index == max(y.index)].values[0])}, index=[len(X_test)+1])], \n",
    "                   axis=0)"
   ]
  },
  {
   "cell_type": "code",
   "execution_count": 26,
   "metadata": {
    "scrolled": true
   },
   "outputs": [
    {
     "name": "stderr",
     "output_type": "stream",
     "text": [
      "C:\\Users\\GCPeppe\\anaconda3\\lib\\site-packages\\pandas\\core\\frame.py:4163: SettingWithCopyWarning: \n",
      "A value is trying to be set on a copy of a slice from a DataFrame\n",
      "\n",
      "See the caveats in the documentation: https://pandas.pydata.org/pandas-docs/stable/user_guide/indexing.html#returning-a-view-versus-a-copy\n",
      "  return super().drop(\n"
     ]
    }
   ],
   "source": [
    "X_train.drop([i], inplace=True)\n",
    "y_train.drop([i], inplace=True)\n",
    "\n",
    "X_train.reset_index(drop=True, inplace=True)\n",
    "X_test.reset_index(drop=True, inplace=True)\n",
    "y_train.reset_index(drop=True, inplace=True)\n",
    "y_test.reset_index(drop=True, inplace=True)"
   ]
  },
  {
   "cell_type": "code",
   "execution_count": 32,
   "metadata": {},
   "outputs": [
    {
     "data": {
      "text/plain": [
       "LinearRegression()"
      ]
     },
     "execution_count": 32,
     "metadata": {},
     "output_type": "execute_result"
    }
   ],
   "source": [
    "reg = LinearRegression()\n",
    "reg.fit(X_train[['Dose 1_sqrt', 'Dose 2_sqrt', 'Casos Totais_sqrt']], y_train)"
   ]
  },
  {
   "cell_type": "code",
   "execution_count": 33,
   "metadata": {},
   "outputs": [],
   "source": [
    "y_pred = reg.predict(X_test[['Dose 1_sqrt', 'Dose 2_sqrt', 'Casos Totais_sqrt']])"
   ]
  },
  {
   "cell_type": "code",
   "execution_count": 34,
   "metadata": {},
   "outputs": [],
   "source": [
    "results = pd.concat([X_test[['Data']], pd.DataFrame(y_pred)], axis=1).sort_values('Data')"
   ]
  },
  {
   "cell_type": "code",
   "execution_count": 35,
   "metadata": {
    "scrolled": false
   },
   "outputs": [],
   "source": [
    "results.columns = ['Data', 'pred']"
   ]
  },
  {
   "cell_type": "code",
   "execution_count": 36,
   "metadata": {
    "scrolled": false
   },
   "outputs": [
    {
     "name": "stdout",
     "output_type": "stream",
     "text": [
      "\n"
     ]
    },
    {
     "data": {
      "image/png": "[encoded data removed]",
      "text/plain": [
       "<Figure size 720x720 with 1 Axes>"
      ]
     },
     "metadata": {},
     "output_type": "display_data"
    }
   ],
   "source": [
    "plt.figure(figsize=(10,10))\n",
    "\n",
    "plt.plot(covid['Data'], np.log(covid['Casos Ativos']), label='Casos Ativos reais')\n",
    "plt.plot(results['Data'], results['pred'], label='Casos ativos preditos')\n",
    "plt.xticks(covid['Data'].values[::60], rotation=45)\n",
    "plt.title('Casos ativos reais vs. Casos ativos preditos')\n",
    "plt.ylabel('Casos Ativos')\n",
    "plt.ylim(0,7)\n",
    "plt.legend()\n",
    "print('')"
   ]
  },
  {
   "cell_type": "code",
   "execution_count": null,
   "metadata": {},
   "outputs": [],
   "source": [
    "print(mean_absolute_error(y_test, y_pred))\n",
    "print(r2_score(y_test, y_pred))\n",
    "print(mean_squared_log_error(y_test, y_pred))"
   ]
  }
 ],
 "metadata": {
  "kernelspec": {
   "display_name": "Python 3",
   "language": "python",
   "name": "python3"
  },
  "language_info": {
   "codemirror_mode": {
    "name": "ipython",
    "version": 3
   },
   "file_extension": ".py",
   "mimetype": "text/x-python",
   "name": "python",
   "nbconvert_exporter": "python",
   "pygments_lexer": "ipython3",
   "version": "3.8.5"
  }
 },
 "nbformat": 4,
 "nbformat_minor": 4
}
