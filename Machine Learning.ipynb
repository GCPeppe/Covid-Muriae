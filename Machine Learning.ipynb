{
 "cells": [
  {
   "cell_type": "code",
   "execution_count": 1,
   "metadata": {},
   "outputs": [],
   "source": [
    "import requests\n",
    "from bs4 import BeautifulSoup as soup\n",
    "from matplotlib import pyplot as plt\n",
    "from datetime import datetime, timedelta\n",
    "import pandas as pd\n",
    "import numpy as np"
   ]
  },
  {
   "cell_type": "markdown",
   "metadata": {},
   "source": [
    "## Regressão Linear"
   ]
  },
  {
   "cell_type": "code",
   "execution_count": 2,
   "metadata": {},
   "outputs": [],
   "source": [
    "covid = pd.read_csv('covid-muriae-auto.csv', sep=';')"
   ]
  },
  {
   "cell_type": "code",
   "execution_count": 3,
   "metadata": {
    "scrolled": true
   },
   "outputs": [
    {
     "data": {
      "text/html": [
       "<div>\n",
       "<style scoped>\n",
       "    .dataframe tbody tr th:only-of-type {\n",
       "        vertical-align: middle;\n",
       "    }\n",
       "\n",
       "    .dataframe tbody tr th {\n",
       "        vertical-align: top;\n",
       "    }\n",
       "\n",
       "    .dataframe thead th {\n",
       "        text-align: right;\n",
       "    }\n",
       "</style>\n",
       "<table border=\"1\" class=\"dataframe\">\n",
       "  <thead>\n",
       "    <tr style=\"text-align: right;\">\n",
       "      <th></th>\n",
       "      <th>Data</th>\n",
       "      <th>Dose 1</th>\n",
       "      <th>Dose 2</th>\n",
       "      <th>Casos Totais</th>\n",
       "      <th>Casos Ativos</th>\n",
       "      <th>Óbitos</th>\n",
       "      <th>Casos Diários</th>\n",
       "      <th>Óbitos Diários</th>\n",
       "    </tr>\n",
       "  </thead>\n",
       "  <tbody>\n",
       "    <tr>\n",
       "      <th>0</th>\n",
       "      <td>2020-05-19</td>\n",
       "      <td>0</td>\n",
       "      <td>0</td>\n",
       "      <td>67</td>\n",
       "      <td>39</td>\n",
       "      <td>3</td>\n",
       "      <td>0</td>\n",
       "      <td>0</td>\n",
       "    </tr>\n",
       "    <tr>\n",
       "      <th>1</th>\n",
       "      <td>2020-05-20</td>\n",
       "      <td>0</td>\n",
       "      <td>0</td>\n",
       "      <td>77</td>\n",
       "      <td>49</td>\n",
       "      <td>3</td>\n",
       "      <td>10</td>\n",
       "      <td>0</td>\n",
       "    </tr>\n",
       "    <tr>\n",
       "      <th>2</th>\n",
       "      <td>2020-05-21</td>\n",
       "      <td>0</td>\n",
       "      <td>0</td>\n",
       "      <td>83</td>\n",
       "      <td>45</td>\n",
       "      <td>4</td>\n",
       "      <td>6</td>\n",
       "      <td>1</td>\n",
       "    </tr>\n",
       "    <tr>\n",
       "      <th>3</th>\n",
       "      <td>2020-05-22</td>\n",
       "      <td>0</td>\n",
       "      <td>0</td>\n",
       "      <td>95</td>\n",
       "      <td>57</td>\n",
       "      <td>4</td>\n",
       "      <td>12</td>\n",
       "      <td>0</td>\n",
       "    </tr>\n",
       "    <tr>\n",
       "      <th>4</th>\n",
       "      <td>2020-05-23</td>\n",
       "      <td>0</td>\n",
       "      <td>0</td>\n",
       "      <td>95</td>\n",
       "      <td>57</td>\n",
       "      <td>4</td>\n",
       "      <td>0</td>\n",
       "      <td>0</td>\n",
       "    </tr>\n",
       "    <tr>\n",
       "      <th>...</th>\n",
       "      <td>...</td>\n",
       "      <td>...</td>\n",
       "      <td>...</td>\n",
       "      <td>...</td>\n",
       "      <td>...</td>\n",
       "      <td>...</td>\n",
       "      <td>...</td>\n",
       "      <td>...</td>\n",
       "    </tr>\n",
       "    <tr>\n",
       "      <th>574</th>\n",
       "      <td>2021-12-09</td>\n",
       "      <td>84501</td>\n",
       "      <td>76862</td>\n",
       "      <td>11896</td>\n",
       "      <td>2</td>\n",
       "      <td>318</td>\n",
       "      <td>0</td>\n",
       "      <td>0</td>\n",
       "    </tr>\n",
       "    <tr>\n",
       "      <th>575</th>\n",
       "      <td>2021-12-10</td>\n",
       "      <td>84501</td>\n",
       "      <td>77012</td>\n",
       "      <td>11896</td>\n",
       "      <td>2</td>\n",
       "      <td>318</td>\n",
       "      <td>0</td>\n",
       "      <td>0</td>\n",
       "    </tr>\n",
       "    <tr>\n",
       "      <th>576</th>\n",
       "      <td>2021-12-11</td>\n",
       "      <td>84501</td>\n",
       "      <td>77012</td>\n",
       "      <td>11896</td>\n",
       "      <td>2</td>\n",
       "      <td>318</td>\n",
       "      <td>0</td>\n",
       "      <td>0</td>\n",
       "    </tr>\n",
       "    <tr>\n",
       "      <th>577</th>\n",
       "      <td>2021-12-12</td>\n",
       "      <td>84501</td>\n",
       "      <td>77012</td>\n",
       "      <td>11896</td>\n",
       "      <td>2</td>\n",
       "      <td>318</td>\n",
       "      <td>0</td>\n",
       "      <td>0</td>\n",
       "    </tr>\n",
       "    <tr>\n",
       "      <th>578</th>\n",
       "      <td>2021-12-13</td>\n",
       "      <td>84504</td>\n",
       "      <td>77171</td>\n",
       "      <td>11896</td>\n",
       "      <td>0</td>\n",
       "      <td>318</td>\n",
       "      <td>0</td>\n",
       "      <td>0</td>\n",
       "    </tr>\n",
       "  </tbody>\n",
       "</table>\n",
       "<p>579 rows × 8 columns</p>\n",
       "</div>"
      ],
      "text/plain": [
       "           Data  Dose 1  Dose 2  Casos Totais  Casos Ativos  Óbitos  \\\n",
       "0    2020-05-19       0       0            67            39       3   \n",
       "1    2020-05-20       0       0            77            49       3   \n",
       "2    2020-05-21       0       0            83            45       4   \n",
       "3    2020-05-22       0       0            95            57       4   \n",
       "4    2020-05-23       0       0            95            57       4   \n",
       "..          ...     ...     ...           ...           ...     ...   \n",
       "574  2021-12-09   84501   76862         11896             2     318   \n",
       "575  2021-12-10   84501   77012         11896             2     318   \n",
       "576  2021-12-11   84501   77012         11896             2     318   \n",
       "577  2021-12-12   84501   77012         11896             2     318   \n",
       "578  2021-12-13   84504   77171         11896             0     318   \n",
       "\n",
       "     Casos Diários  Óbitos Diários  \n",
       "0                0               0  \n",
       "1               10               0  \n",
       "2                6               1  \n",
       "3               12               0  \n",
       "4                0               0  \n",
       "..             ...             ...  \n",
       "574              0               0  \n",
       "575              0               0  \n",
       "576              0               0  \n",
       "577              0               0  \n",
       "578              0               0  \n",
       "\n",
       "[579 rows x 8 columns]"
      ]
     },
     "execution_count": 3,
     "metadata": {},
     "output_type": "execute_result"
    }
   ],
   "source": [
    "covid"
   ]
  },
  {
   "cell_type": "code",
   "execution_count": 4,
   "metadata": {},
   "outputs": [],
   "source": [
    "from sklearn.linear_model import LinearRegression\n",
    "from sklearn.model_selection import train_test_split"
   ]
  },
  {
   "cell_type": "code",
   "execution_count": 5,
   "metadata": {},
   "outputs": [],
   "source": [
    "vacinacao = covid[covid['Dose 1'] > 0]\n",
    "vacinacao.reset_index(drop=True, inplace=True)"
   ]
  },
  {
   "cell_type": "code",
   "execution_count": 6,
   "metadata": {},
   "outputs": [],
   "source": [
    "X = vacinacao.drop('Casos Ativos', axis=1)\n",
    "y = vacinacao[['Casos Ativos']]"
   ]
  },
  {
   "cell_type": "code",
   "execution_count": 7,
   "metadata": {},
   "outputs": [],
   "source": [
    "X_train, X_test, y_train, y_test = train_test_split(X, y, test_size = 0.2, random_state=42)\n",
    "X_train.reset_index(drop=True, inplace=True)\n",
    "X_test.reset_index(drop=True, inplace=True)\n",
    "y_train.reset_index(drop=True, inplace=True)\n",
    "y_test.reset_index(drop=True, inplace=True)"
   ]
  },
  {
   "cell_type": "code",
   "execution_count": 8,
   "metadata": {},
   "outputs": [
    {
     "data": {
      "text/plain": [
       "LinearRegression()"
      ]
     },
     "execution_count": 8,
     "metadata": {},
     "output_type": "execute_result"
    }
   ],
   "source": [
    "reg = LinearRegression()\n",
    "reg.fit(X_train[['Dose 1', 'Dose 2']], y_train)"
   ]
  },
  {
   "cell_type": "code",
   "execution_count": 9,
   "metadata": {
    "scrolled": true
   },
   "outputs": [],
   "source": [
    "y_pred = reg.predict(X_test[['Dose 1', 'Dose 2']])"
   ]
  },
  {
   "cell_type": "code",
   "execution_count": 10,
   "metadata": {},
   "outputs": [],
   "source": [
    "results = pd.concat([X_test[['Data']], pd.DataFrame(y_pred)], axis=1).sort_values('Data')"
   ]
  },
  {
   "cell_type": "code",
   "execution_count": 11,
   "metadata": {
    "scrolled": true
   },
   "outputs": [],
   "source": [
    "results.columns = ['Data', 'pred']"
   ]
  },
  {
   "cell_type": "code",
   "execution_count": 12,
   "metadata": {},
   "outputs": [],
   "source": [
    "plt.rcParams.update({'figure.facecolor': 'white'})"
   ]
  },
  {
   "cell_type": "code",
   "execution_count": 13,
   "metadata": {
    "scrolled": false
   },
   "outputs": [
    {
     "name": "stdout",
     "output_type": "stream",
     "text": [
      "\n"
     ]
    },
    {
     "data": {
      "image/png": "[encoded data removed]",
      "text/plain": [
       "<Figure size 720x720 with 1 Axes>"
      ]
     },
     "metadata": {},
     "output_type": "display_data"
    }
   ],
   "source": [
    "plt.figure(figsize=(10,10))\n",
    "\n",
    "plt.plot(covid['Data'], covid['Casos Ativos'], label='Casos Ativos reais')\n",
    "plt.plot(results['Data'], results['pred'], label='Casos ativos preditos')\n",
    "plt.xticks(covid['Data'].values[::60], rotation=45)\n",
    "plt.title('Casos ativos reais vs. Casos ativos preditos')\n",
    "plt.ylabel('Casos Ativos')\n",
    "plt.ylim(0, max(covid['Casos Ativos']+20))\n",
    "plt.legend()\n",
    "print('')"
   ]
  },
  {
   "cell_type": "code",
   "execution_count": 14,
   "metadata": {},
   "outputs": [],
   "source": [
    "from sklearn.metrics import mean_absolute_error, r2_score, mean_squared_log_error"
   ]
  },
  {
   "cell_type": "code",
   "execution_count": 15,
   "metadata": {
    "scrolled": true
   },
   "outputs": [
    {
     "name": "stdout",
     "output_type": "stream",
     "text": [
      "47.539399317044634\n",
      "0.6432960251518611\n"
     ]
    }
   ],
   "source": [
    "print(mean_absolute_error(y_test, y_pred))\n",
    "print(r2_score(y_test, y_pred))"
   ]
  },
  {
   "cell_type": "markdown",
   "metadata": {},
   "source": [
    "## Transformação Log"
   ]
  },
  {
   "cell_type": "code",
   "execution_count": 16,
   "metadata": {},
   "outputs": [],
   "source": [
    "from sklearn.preprocessing import FunctionTransformer"
   ]
  },
  {
   "cell_type": "code",
   "execution_count": 17,
   "metadata": {
    "scrolled": true
   },
   "outputs": [
    {
     "data": {
      "text/html": [
       "<div>\n",
       "<style scoped>\n",
       "    .dataframe tbody tr th:only-of-type {\n",
       "        vertical-align: middle;\n",
       "    }\n",
       "\n",
       "    .dataframe tbody tr th {\n",
       "        vertical-align: top;\n",
       "    }\n",
       "\n",
       "    .dataframe thead th {\n",
       "        text-align: right;\n",
       "    }\n",
       "</style>\n",
       "<table border=\"1\" class=\"dataframe\">\n",
       "  <thead>\n",
       "    <tr style=\"text-align: right;\">\n",
       "      <th></th>\n",
       "      <th>Data</th>\n",
       "      <th>Dose 1</th>\n",
       "      <th>Dose 2</th>\n",
       "      <th>Casos Totais</th>\n",
       "      <th>Óbitos</th>\n",
       "      <th>Casos Diários</th>\n",
       "      <th>Óbitos Diários</th>\n",
       "      <th>Dose 1_sqrt</th>\n",
       "      <th>Dose 2_sqrt</th>\n",
       "      <th>Casos Totais_sqrt</th>\n",
       "      <th>Óbitos_sqrt</th>\n",
       "      <th>Casos Diários_sqrt</th>\n",
       "      <th>Óbitos Diários_sqrt</th>\n",
       "    </tr>\n",
       "  </thead>\n",
       "  <tbody>\n",
       "    <tr>\n",
       "      <th>0</th>\n",
       "      <td>2021-02-08</td>\n",
       "      <td>4075</td>\n",
       "      <td>114</td>\n",
       "      <td>7061</td>\n",
       "      <td>142</td>\n",
       "      <td>51</td>\n",
       "      <td>0</td>\n",
       "      <td>63.835727</td>\n",
       "      <td>10.677078</td>\n",
       "      <td>84.029757</td>\n",
       "      <td>11.916375</td>\n",
       "      <td>7.141428</td>\n",
       "      <td>0.0</td>\n",
       "    </tr>\n",
       "    <tr>\n",
       "      <th>1</th>\n",
       "      <td>2021-02-09</td>\n",
       "      <td>4075</td>\n",
       "      <td>253</td>\n",
       "      <td>7082</td>\n",
       "      <td>143</td>\n",
       "      <td>21</td>\n",
       "      <td>1</td>\n",
       "      <td>63.835727</td>\n",
       "      <td>15.905974</td>\n",
       "      <td>84.154620</td>\n",
       "      <td>11.958261</td>\n",
       "      <td>4.582576</td>\n",
       "      <td>1.0</td>\n",
       "    </tr>\n",
       "    <tr>\n",
       "      <th>2</th>\n",
       "      <td>2021-02-10</td>\n",
       "      <td>4075</td>\n",
       "      <td>786</td>\n",
       "      <td>7115</td>\n",
       "      <td>143</td>\n",
       "      <td>33</td>\n",
       "      <td>0</td>\n",
       "      <td>63.835727</td>\n",
       "      <td>28.035692</td>\n",
       "      <td>84.350459</td>\n",
       "      <td>11.958261</td>\n",
       "      <td>5.744563</td>\n",
       "      <td>0.0</td>\n",
       "    </tr>\n",
       "    <tr>\n",
       "      <th>3</th>\n",
       "      <td>2021-02-11</td>\n",
       "      <td>4076</td>\n",
       "      <td>1800</td>\n",
       "      <td>7156</td>\n",
       "      <td>143</td>\n",
       "      <td>41</td>\n",
       "      <td>0</td>\n",
       "      <td>63.843559</td>\n",
       "      <td>42.426407</td>\n",
       "      <td>84.593144</td>\n",
       "      <td>11.958261</td>\n",
       "      <td>6.403124</td>\n",
       "      <td>0.0</td>\n",
       "    </tr>\n",
       "    <tr>\n",
       "      <th>4</th>\n",
       "      <td>2021-02-12</td>\n",
       "      <td>4076</td>\n",
       "      <td>2243</td>\n",
       "      <td>7165</td>\n",
       "      <td>144</td>\n",
       "      <td>9</td>\n",
       "      <td>1</td>\n",
       "      <td>63.843559</td>\n",
       "      <td>47.360321</td>\n",
       "      <td>84.646323</td>\n",
       "      <td>12.000000</td>\n",
       "      <td>3.000000</td>\n",
       "      <td>1.0</td>\n",
       "    </tr>\n",
       "    <tr>\n",
       "      <th>...</th>\n",
       "      <td>...</td>\n",
       "      <td>...</td>\n",
       "      <td>...</td>\n",
       "      <td>...</td>\n",
       "      <td>...</td>\n",
       "      <td>...</td>\n",
       "      <td>...</td>\n",
       "      <td>...</td>\n",
       "      <td>...</td>\n",
       "      <td>...</td>\n",
       "      <td>...</td>\n",
       "      <td>...</td>\n",
       "      <td>...</td>\n",
       "    </tr>\n",
       "    <tr>\n",
       "      <th>309</th>\n",
       "      <td>2021-12-09</td>\n",
       "      <td>84501</td>\n",
       "      <td>76862</td>\n",
       "      <td>11896</td>\n",
       "      <td>318</td>\n",
       "      <td>0</td>\n",
       "      <td>0</td>\n",
       "      <td>290.690557</td>\n",
       "      <td>277.239968</td>\n",
       "      <td>109.068786</td>\n",
       "      <td>17.832555</td>\n",
       "      <td>0.000000</td>\n",
       "      <td>0.0</td>\n",
       "    </tr>\n",
       "    <tr>\n",
       "      <th>310</th>\n",
       "      <td>2021-12-10</td>\n",
       "      <td>84501</td>\n",
       "      <td>77012</td>\n",
       "      <td>11896</td>\n",
       "      <td>318</td>\n",
       "      <td>0</td>\n",
       "      <td>0</td>\n",
       "      <td>290.690557</td>\n",
       "      <td>277.510360</td>\n",
       "      <td>109.068786</td>\n",
       "      <td>17.832555</td>\n",
       "      <td>0.000000</td>\n",
       "      <td>0.0</td>\n",
       "    </tr>\n",
       "    <tr>\n",
       "      <th>311</th>\n",
       "      <td>2021-12-11</td>\n",
       "      <td>84501</td>\n",
       "      <td>77012</td>\n",
       "      <td>11896</td>\n",
       "      <td>318</td>\n",
       "      <td>0</td>\n",
       "      <td>0</td>\n",
       "      <td>290.690557</td>\n",
       "      <td>277.510360</td>\n",
       "      <td>109.068786</td>\n",
       "      <td>17.832555</td>\n",
       "      <td>0.000000</td>\n",
       "      <td>0.0</td>\n",
       "    </tr>\n",
       "    <tr>\n",
       "      <th>312</th>\n",
       "      <td>2021-12-12</td>\n",
       "      <td>84501</td>\n",
       "      <td>77012</td>\n",
       "      <td>11896</td>\n",
       "      <td>318</td>\n",
       "      <td>0</td>\n",
       "      <td>0</td>\n",
       "      <td>290.690557</td>\n",
       "      <td>277.510360</td>\n",
       "      <td>109.068786</td>\n",
       "      <td>17.832555</td>\n",
       "      <td>0.000000</td>\n",
       "      <td>0.0</td>\n",
       "    </tr>\n",
       "    <tr>\n",
       "      <th>313</th>\n",
       "      <td>2021-12-13</td>\n",
       "      <td>84504</td>\n",
       "      <td>77171</td>\n",
       "      <td>11896</td>\n",
       "      <td>318</td>\n",
       "      <td>0</td>\n",
       "      <td>0</td>\n",
       "      <td>290.695717</td>\n",
       "      <td>277.796688</td>\n",
       "      <td>109.068786</td>\n",
       "      <td>17.832555</td>\n",
       "      <td>0.000000</td>\n",
       "      <td>0.0</td>\n",
       "    </tr>\n",
       "  </tbody>\n",
       "</table>\n",
       "<p>314 rows × 13 columns</p>\n",
       "</div>"
      ],
      "text/plain": [
       "           Data  Dose 1  Dose 2  Casos Totais  Óbitos  Casos Diários  \\\n",
       "0    2021-02-08    4075     114          7061     142             51   \n",
       "1    2021-02-09    4075     253          7082     143             21   \n",
       "2    2021-02-10    4075     786          7115     143             33   \n",
       "3    2021-02-11    4076    1800          7156     143             41   \n",
       "4    2021-02-12    4076    2243          7165     144              9   \n",
       "..          ...     ...     ...           ...     ...            ...   \n",
       "309  2021-12-09   84501   76862         11896     318              0   \n",
       "310  2021-12-10   84501   77012         11896     318              0   \n",
       "311  2021-12-11   84501   77012         11896     318              0   \n",
       "312  2021-12-12   84501   77012         11896     318              0   \n",
       "313  2021-12-13   84504   77171         11896     318              0   \n",
       "\n",
       "     Óbitos Diários  Dose 1_sqrt  Dose 2_sqrt  Casos Totais_sqrt  Óbitos_sqrt  \\\n",
       "0                 0    63.835727    10.677078          84.029757    11.916375   \n",
       "1                 1    63.835727    15.905974          84.154620    11.958261   \n",
       "2                 0    63.835727    28.035692          84.350459    11.958261   \n",
       "3                 0    63.843559    42.426407          84.593144    11.958261   \n",
       "4                 1    63.843559    47.360321          84.646323    12.000000   \n",
       "..              ...          ...          ...                ...          ...   \n",
       "309               0   290.690557   277.239968         109.068786    17.832555   \n",
       "310               0   290.690557   277.510360         109.068786    17.832555   \n",
       "311               0   290.690557   277.510360         109.068786    17.832555   \n",
       "312               0   290.690557   277.510360         109.068786    17.832555   \n",
       "313               0   290.695717   277.796688         109.068786    17.832555   \n",
       "\n",
       "     Casos Diários_sqrt  Óbitos Diários_sqrt  \n",
       "0              7.141428                  0.0  \n",
       "1              4.582576                  1.0  \n",
       "2              5.744563                  0.0  \n",
       "3              6.403124                  0.0  \n",
       "4              3.000000                  1.0  \n",
       "..                  ...                  ...  \n",
       "309            0.000000                  0.0  \n",
       "310            0.000000                  0.0  \n",
       "311            0.000000                  0.0  \n",
       "312            0.000000                  0.0  \n",
       "313            0.000000                  0.0  \n",
       "\n",
       "[314 rows x 13 columns]"
      ]
     },
     "execution_count": 17,
     "metadata": {},
     "output_type": "execute_result"
    }
   ],
   "source": [
    "cols = X.select_dtypes(include='number').columns\n",
    "\n",
    "sqrt_transformer = FunctionTransformer(np.sqrt, validate=True)\n",
    "\n",
    "for col in cols:\n",
    "    X['{}_sqrt'.format(col)] = sqrt_transformer.transform(X[col].values.reshape(-1, 1))\n",
    "X"
   ]
  },
  {
   "cell_type": "code",
   "execution_count": 18,
   "metadata": {},
   "outputs": [
    {
     "data": {
      "text/plain": [
       "Index(['Data', 'Dose 1', 'Dose 2', 'Casos Totais', 'Óbitos', 'Casos Diários',\n",
       "       'Óbitos Diários', 'Dose 1_sqrt', 'Dose 2_sqrt', 'Casos Totais_sqrt',\n",
       "       'Óbitos_sqrt', 'Casos Diários_sqrt', 'Óbitos Diários_sqrt'],\n",
       "      dtype='object')"
      ]
     },
     "execution_count": 18,
     "metadata": {},
     "output_type": "execute_result"
    }
   ],
   "source": [
    "X.columns"
   ]
  },
  {
   "cell_type": "code",
   "execution_count": 19,
   "metadata": {},
   "outputs": [
    {
     "name": "stderr",
     "output_type": "stream",
     "text": [
      "C:\\Users\\GCPeppe\\anaconda3\\lib\\site-packages\\pandas\\core\\arraylike.py:364: RuntimeWarning: divide by zero encountered in log\n",
      "  result = getattr(ufunc, method)(*inputs, **kwargs)\n"
     ]
    }
   ],
   "source": [
    "X_log = X[['Data', 'Dose 1_sqrt', 'Dose 2_sqrt', 'Casos Totais_sqrt',\n",
    "       'Óbitos_sqrt', 'Casos Diários_sqrt', 'Óbitos Diários_sqrt']]\n",
    "y_log = np.log(vacinacao['Casos Ativos'])\n",
    "\n",
    "X_train, X_test, y_train, y_test = train_test_split(X_log, y_log, test_size = 0.2, random_state=42)\n",
    "X_train.reset_index(drop=True, inplace=True)\n",
    "X_test.reset_index(drop=True, inplace=True)\n",
    "y_train.reset_index(drop=True, inplace=True)\n",
    "y_test.reset_index(drop=True, inplace=True)"
   ]
  },
  {
   "cell_type": "code",
   "execution_count": 20,
   "metadata": {},
   "outputs": [
    {
     "name": "stderr",
     "output_type": "stream",
     "text": [
      "<ipython-input-20-666c357e4844>:14: RuntimeWarning: divide by zero encountered in log\n",
      "  pd.DataFrame({'Casos Ativos': np.log(y['Casos Ativos'][y.index == max(y.index)].values[0])}, index=[len(X_test)+1])],\n"
     ]
    }
   ],
   "source": [
    "#forçando o último registro a aparecer nos dataframes de teste\n",
    "\n",
    "i = X_train[X_train['Data'] == max(X_train['Data'])].index[0]\n",
    "\n",
    "X_test = pd.concat([X_test, pd.DataFrame({'Data': X_train.loc[i, 'Data'],\n",
    "                    'Dose 1_sqrt': X_train.loc[i, 'Dose 1_sqrt'], \n",
    "                    'Dose 2_sqrt': X_train.loc[i, 'Dose 2_sqrt'],\n",
    "                    'Casos Totais_sqrt': X_train.loc[i,'Casos Totais_sqrt'] , \n",
    "                    'Óbitos_sqrt': X_train.loc[i, 'Óbitos_sqrt'],\n",
    "                    'Casos Diários_sqrt': X_train.loc[i, 'Casos Diários_sqrt'], \n",
    "                    'Óbitos Diários_sqrt': X_train.loc[i, 'Óbitos Diários_sqrt']}, \n",
    "                                         index=[len(X_test)+1])], axis=0)\n",
    "y_test = pd.concat([pd.DataFrame(y_test), \n",
    "                    pd.DataFrame({'Casos Ativos': np.log(y['Casos Ativos'][y.index == max(y.index)].values[0])}, index=[len(X_test)+1])], \n",
    "                   axis=0)"
   ]
  },
  {
   "cell_type": "code",
   "execution_count": 21,
   "metadata": {
    "scrolled": true
   },
   "outputs": [
    {
     "name": "stderr",
     "output_type": "stream",
     "text": [
      "C:\\Users\\GCPeppe\\anaconda3\\lib\\site-packages\\pandas\\core\\frame.py:4906: SettingWithCopyWarning: \n",
      "A value is trying to be set on a copy of a slice from a DataFrame\n",
      "\n",
      "See the caveats in the documentation: https://pandas.pydata.org/pandas-docs/stable/user_guide/indexing.html#returning-a-view-versus-a-copy\n",
      "  return super().drop(\n"
     ]
    }
   ],
   "source": [
    "X_train.drop([i], inplace=True)\n",
    "y_train.drop([i], inplace=True)\n",
    "\n",
    "X_train.reset_index(drop=True, inplace=True)\n",
    "X_test.reset_index(drop=True, inplace=True)\n",
    "y_train.reset_index(drop=True, inplace=True)\n",
    "y_test.reset_index(drop=True, inplace=True)"
   ]
  },
  {
   "cell_type": "code",
   "execution_count": 48,
   "metadata": {},
   "outputs": [
    {
     "data": {
      "text/plain": [
       "LinearRegression()"
      ]
     },
     "execution_count": 48,
     "metadata": {},
     "output_type": "execute_result"
    }
   ],
   "source": [
    "reg = LinearRegression()\n",
    "reg.fit(X_train[['Dose 1_sqrt', 'Dose 2_sqrt']], y_train.replace([np.inf, -np.inf], 0))"
   ]
  },
  {
   "cell_type": "code",
   "execution_count": 49,
   "metadata": {},
   "outputs": [],
   "source": [
    "y_pred = reg.predict(X_test[['Dose 1_sqrt', 'Dose 2_sqrt']])"
   ]
  },
  {
   "cell_type": "code",
   "execution_count": 50,
   "metadata": {},
   "outputs": [],
   "source": [
    "results = pd.concat([X_test[['Data']], pd.DataFrame(y_pred)], axis=1).sort_values('Data')"
   ]
  },
  {
   "cell_type": "code",
   "execution_count": 51,
   "metadata": {
    "scrolled": false
   },
   "outputs": [],
   "source": [
    "results.columns = ['Data', 'pred']"
   ]
  },
  {
   "cell_type": "code",
   "execution_count": 52,
   "metadata": {
    "scrolled": false
   },
   "outputs": [
    {
     "name": "stderr",
     "output_type": "stream",
     "text": [
      "C:\\Users\\GCPeppe\\anaconda3\\lib\\site-packages\\pandas\\core\\arraylike.py:364: RuntimeWarning: divide by zero encountered in log\n",
      "  result = getattr(ufunc, method)(*inputs, **kwargs)\n"
     ]
    },
    {
     "name": "stdout",
     "output_type": "stream",
     "text": [
      "\n"
     ]
    },
    {
     "data": {
      "image/png": "[encoded data removed]",
      "text/plain": [
       "<Figure size 720x720 with 1 Axes>"
      ]
     },
     "metadata": {},
     "output_type": "display_data"
    }
   ],
   "source": [
    "plt.figure(figsize=(10,10))\n",
    "\n",
    "plt.plot(covid['Data'], np.log(covid['Casos Ativos']), label='Casos Ativos reais')\n",
    "plt.plot(results['Data'], results['pred'], label='Casos ativos preditos')\n",
    "plt.xticks(covid['Data'].values[::60], rotation=45)\n",
    "plt.title('Casos ativos reais vs. Casos ativos preditos')\n",
    "plt.ylabel('Casos Ativos')\n",
    "plt.ylim(0,7)\n",
    "plt.legend()\n",
    "print('')"
   ]
  },
  {
   "cell_type": "code",
   "execution_count": null,
   "metadata": {},
   "outputs": [],
   "source": [
    "print(mean_absolute_error(y_test, y_pred))\n",
    "print(r2_score(y_test, y_pred))\n",
    "print(mean_squared_log_error(y_test, y_pred))"
   ]
  },
  {
   "cell_type": "code",
   "execution_count": 46,
   "metadata": {
    "scrolled": true
   },
   "outputs": [
    {
     "data": {
      "text/plain": [
       "[5.455321115357702,\n",
       " 5.4638318050256105,\n",
       " 5.598421958998375,\n",
       " 5.384495062789089,\n",
       " 4.820281565605037,\n",
       " 3.4965075614664802,\n",
       " 0.0,\n",
       " 2.5649493574615367,\n",
       " 1.3862943611198906,\n",
       " 4.836281906951478,\n",
       " 4.31748811353631,\n",
       " 5.472270673671475,\n",
       " 1.0986122886681098,\n",
       " 5.631211781821365,\n",
       " 5.66988092298052,\n",
       " 5.19295685089021,\n",
       " 2.302585092994046,\n",
       " 4.836281906951478,\n",
       " 5.043425116919247,\n",
       " 2.302585092994046,\n",
       " 5.209486152841421,\n",
       " 5.537334267018537,\n",
       " 4.343805421853684,\n",
       " 1.3862943611198906,\n",
       " 4.343805421853684,\n",
       " 0.6931471805599453,\n",
       " 4.31748811353631,\n",
       " 5.62040086571715,\n",
       " 5.493061443340548,\n",
       " 0.0,\n",
       " 0.6931471805599453,\n",
       " 5.572154032177765,\n",
       " 5.631211781821365,\n",
       " 5.030437921392435,\n",
       " 0.6931471805599453,\n",
       " 5.572154032177765,\n",
       " 5.030437921392435,\n",
       " 2.8903717578961645,\n",
       " 4.804021044733257,\n",
       " 5.198497031265826,\n",
       " 2.1972245773362196,\n",
       " 5.459585514144159,\n",
       " 5.389071729816501,\n",
       " 5.147494476813453,\n",
       " 4.762173934797756,\n",
       " 4.890349128221754,\n",
       " 3.9512437185814275,\n",
       " 4.07753744390572,\n",
       " 5.147494476813453,\n",
       " 5.602118820879701,\n",
       " 2.70805020110221,\n",
       " 5.062595033026967,\n",
       " 4.955827057601261,\n",
       " 5.327876168789581,\n",
       " 1.9459101490553132,\n",
       " 1.3862943611198906,\n",
       " 5.602118820879701,\n",
       " 5.648974238161206,\n",
       " 1.791759469228055,\n",
       " 5.602118820879701,\n",
       " 4.787491742782046,\n",
       " 0.6931471805599453,\n",
       " 5.634789603169249,\n",
       " 2.70805020110221,\n",
       " 5.556828061699537,\n",
       " 5.631211781821365,\n",
       " 5.43372200355424,\n",
       " 4.8283137373023015,\n",
       " 1.3862943611198906,\n",
       " 5.54907608489522,\n",
       " 2.302585092994046,\n",
       " 0.6931471805599453,\n",
       " 3.970291913552122,\n",
       " 4.189654742026425,\n",
       " 0.0,\n",
       " 5.605802066295998,\n",
       " 4.343805421853684,\n",
       " 5.583496308781699,\n",
       " 5.117993812416755,\n",
       " 4.248495242049359,\n",
       " 4.454347296253507,\n",
       " 4.624972813284271,\n",
       " 5.3471075307174685,\n",
       " 4.48863636973214,\n",
       " 5.648974238161206,\n",
       " 1.6094379124341003,\n",
       " 1.3862943611198906,\n",
       " 2.3978952727983707,\n",
       " 4.343805421853684,\n",
       " 4.343805421853684,\n",
       " 5.170483995038151,\n",
       " 5.627621113690637,\n",
       " 5.455321115357702,\n",
       " 4.343805421853684,\n",
       " 5.5254529391317835,\n",
       " 3.9512437185814275,\n",
       " 2.3978952727983707,\n",
       " 5.472270673671475,\n",
       " 5.351858133476067,\n",
       " 4.820281565605037,\n",
       " 5.176149732573829,\n",
       " 2.302585092994046,\n",
       " 5.673323267171493,\n",
       " 5.66988092298052,\n",
       " 5.631211781821365,\n",
       " 5.493061443340548,\n",
       " 4.31748811353631,\n",
       " 2.9444389791664403,\n",
       " 1.6094379124341003,\n",
       " 5.556828061699537,\n",
       " 2.0794415416798357,\n",
       " 4.8283137373023015,\n",
       " 3.6888794541139363,\n",
       " 5.43372200355424,\n",
       " 4.976733742420574,\n",
       " 4.709530201312334,\n",
       " 4.912654885736052,\n",
       " 5.645446897643238,\n",
       " 5.564520407322694,\n",
       " 4.31748811353631,\n",
       " 5.5909869805108565,\n",
       " 4.442651256490317,\n",
       " 5.25227342804663,\n",
       " 5.147494476813453,\n",
       " 4.2626798770413155,\n",
       " 5.099866427824199,\n",
       " 1.3862943611198906,\n",
       " 5.3612921657094255,\n",
       " 5.030437921392435,\n",
       " 3.5553480614894135,\n",
       " 5.58724865840025,\n",
       " 5.0369526024136295,\n",
       " 0.6931471805599453,\n",
       " 5.54907608489522,\n",
       " 4.060443010546419,\n",
       " 5.087596335232384,\n",
       " 1.3862943611198906,\n",
       " 1.3862943611198906,\n",
       " 5.37989735354046,\n",
       " 4.465908118654584,\n",
       " 2.3978952727983707,\n",
       " 5.572154032177765,\n",
       " 5.648974238161206,\n",
       " 5.0689042022202315,\n",
       " 5.117993812416755,\n",
       " 5.605802066295998,\n",
       " 5.4638318050256105,\n",
       " 5.147494476813453,\n",
       " 4.1588830833596715,\n",
       " 2.0794415416798357,\n",
       " 4.976733742420574,\n",
       " 0.6931471805599453,\n",
       " 4.343805421853684,\n",
       " 1.3862943611198906,\n",
       " 5.0369526024136295,\n",
       " 3.1780538303479458,\n",
       " 5.19295685089021,\n",
       " 5.659482215759621,\n",
       " 4.852030263919617,\n",
       " 4.1588830833596715,\n",
       " 5.5254529391317835,\n",
       " 3.9512437185814275,\n",
       " 2.3978952727983707,\n",
       " 5.598421958998375,\n",
       " 5.605802066295998,\n",
       " 4.143134726391533,\n",
       " 5.493061443340548,\n",
       " 5.564520407322694,\n",
       " 0.0,\n",
       " 5.19295685089021,\n",
       " 5.327876168789581,\n",
       " 0.6931471805599453,\n",
       " 5.5093883366279774,\n",
       " 5.267858159063328,\n",
       " 4.812184355372417,\n",
       " 5.402677381872279,\n",
       " 5.3612921657094255,\n",
       " 2.5649493574615367,\n",
       " 5.631211781821365,\n",
       " 1.6094379124341003,\n",
       " 4.143134726391533,\n",
       " 5.438079308923196,\n",
       " 5.111987788356544,\n",
       " 2.3978952727983707,\n",
       " 5.472270673671475,\n",
       " 5.176149732573829,\n",
       " 3.5553480614894135,\n",
       " 4.31748811353631,\n",
       " 4.31748811353631,\n",
       " 5.3612921657094255,\n",
       " 1.6094379124341003,\n",
       " 2.5649493574615367,\n",
       " 2.5649493574615367,\n",
       " 0.0,\n",
       " 4.343805421853684,\n",
       " 5.402677381872279,\n",
       " 5.214935757608986,\n",
       " 3.871201010907891,\n",
       " 4.2626798770413155,\n",
       " 2.0794415416798357,\n",
       " 5.497168225293202,\n",
       " 5.327876168789581,\n",
       " 5.117993812416755,\n",
       " 5.099866427824199,\n",
       " 5.204006687076795,\n",
       " 4.127134385045092,\n",
       " 4.852030263919617,\n",
       " 2.302585092994046,\n",
       " 4.804021044733257,\n",
       " 5.327876168789581,\n",
       " 2.302585092994046,\n",
       " 2.995732273553991,\n",
       " 4.976733742420574,\n",
       " 5.030437921392435,\n",
       " 1.3862943611198906,\n",
       " 5.66988092298052,\n",
       " 0.6931471805599453,\n",
       " 5.429345628954441,\n",
       " 0.6931471805599453,\n",
       " 2.8903717578961645,\n",
       " 5.327876168789581,\n",
       " 5.225746673713202,\n",
       " 5.631211781821365,\n",
       " 4.219507705176107,\n",
       " 0.6931471805599453,\n",
       " 4.442651256490317,\n",
       " 5.488937726156687,\n",
       " 5.598421958998375,\n",
       " 5.147494476813453,\n",
       " 3.5553480614894135,\n",
       " 1.791759469228055,\n",
       " 4.9344739331306915,\n",
       " 5.43372200355424,\n",
       " 1.3862943611198906,\n",
       " 4.290459441148391,\n",
       " 0.6931471805599453,\n",
       " 2.0794415416798357,\n",
       " 5.476463551931511,\n",
       " 5.5909869805108565,\n",
       " 5.438079308923196,\n",
       " 5.1298987149230735,\n",
       " 4.919980925828125,\n",
       " 4.143134726391533,\n",
       " 5.631211781821365,\n",
       " 5.030437921392435,\n",
       " 4.442651256490317,\n",
       " 5.389071729816501,\n",
       " 5.497168225293202,\n",
       " 2.3978952727983707,\n",
       " 5.572154032177765]"
      ]
     },
     "execution_count": 46,
     "metadata": {},
     "output_type": "execute_result"
    }
   ],
   "source": [
    "[x for x in y_train.replace([np.inf, -np.inf], 0)]"
   ]
  }
 ],
 "metadata": {
  "kernelspec": {
   "display_name": "Python 3",
   "language": "python",
   "name": "python3"
  },
  "language_info": {
   "codemirror_mode": {
    "name": "ipython",
    "version": 3
   },
   "file_extension": ".py",
   "mimetype": "text/x-python",
   "name": "python",
   "nbconvert_exporter": "python",
   "pygments_lexer": "ipython3",
   "version": "3.8.5"
  }
 },
 "nbformat": 4,
 "nbformat_minor": 4
}
